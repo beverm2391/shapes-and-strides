{
 "cells": [
  {
   "cell_type": "code",
   "execution_count": 6,
   "metadata": {},
   "outputs": [],
   "source": [
    "from __future__ import annotations\n",
    "import numpy as np\n",
    "from typing import Tuple, List, Optional\n",
    "import random\n",
    "import math\n",
    "import sys"
   ]
  },
  {
   "cell_type": "code",
   "execution_count": 80,
   "metadata": {},
   "outputs": [],
   "source": [
    "#helpers\n",
    "def accumulate(arr): return (el := arr[0]) * accumulate(arr[1:]) if arr else 1\n",
    "def prod(arr): return accumulate(arr)\n",
    "\n",
    "def flatten(iterable: List):\n",
    "    \"\"\"Flattens an iterable\"\"\"\n",
    "    if not getattr(iterable, '__iter__', False): return [iterable]\n",
    "    return [el for sublist in iterable for el in flatten(sublist)]\n",
    "\n",
    "def recursive_checktype(obj, type):\n",
    "    \"\"\"Returns True if all elements of obj are of type type\"\"\"\n",
    "    if not getattr(obj, '__iter__', False): return isinstance(obj, type)\n",
    "    return all(recursive_checktype(o, type) for o in obj)\n",
    "\n",
    "def recursive_checkshape(obj):\n",
    "    \"\"\"Returns a shape tuple of a uniform object\"\"\"\n",
    "    def _recursive_checkshape(obj):\n",
    "        if not getattr(obj, '__iter__', False): return [] # if not iterable, return empty list\n",
    "        return [len(obj)] + _recursive_checkshape(obj[0]) # else, return length of obj and recurse on first element\n",
    "    return tuple(_recursive_checkshape(obj))"
   ]
  },
  {
   "cell_type": "code",
   "execution_count": 103,
   "metadata": {},
   "outputs": [],
   "source": [
    "class tarray:\n",
    "    def __init__(self, shape, dtype=float, buffer=None, offset=0, strides=None, order='C'):\n",
    "        self.shape = shape\n",
    "        self.isContiguous = True if strides == None else False\n",
    "        self.dtype = dtype\n",
    "        self.itemsize : int = 1 #? itemsize is one right now because we're storing elements not bytes. fp32 is 4 bytes\n",
    "        self.offset = offset # offset in bytes\n",
    "        self.strides = strides if strides else self._cstrides(shape) # strides in bytes\n",
    "        self.size = prod(shape) # size in elements\n",
    "        self.nbytes = self.itemsize * self.size\n",
    "        self.order = order\n",
    "        self.data = buffer if buffer else [[0]*shape[1] for _ in range(shape[0])] # if no buffer, create one\n",
    "        \n",
    "        self._validate()\n",
    "        \n",
    "    def _validate(self):\n",
    "        \"\"\"Validate the arguments passed to the constructor\"\"\"\n",
    "        if self.order != 'C': raise NotImplementedError(\"Only C order is supported right now\") # check ourder\n",
    "        if len(self.shape) != len(self.strides): raise ValueError(\"Shape and strides must have same length\") # check shape and strides\n",
    "        if not isinstance(self.offset, int): raise TypeError(\"Offset must be an integer\") # check offset\n",
    "        if not isinstance(self.shape, tuple): raise TypeError(\"Shape must be a tuple\") # check shape\n",
    "        if not isinstance(self.strides, tuple): raise TypeError(\"Strides must be a tuple\") # check strides\n",
    "        # TODO check valid dtype goes here\n",
    "        #TODO check strides match the buffer (in bounds)\n",
    "\n",
    "\n",
    "    # ! Internal methods =======================================================\n",
    "    def _cstrides(self, shape):\n",
    "        \"\"\"Returns a tuple of strides for a C-ordered array (in elements)\"\"\"\n",
    "        return tuple([self.itemsize*prod(shape[i+1:]) for i in range(len(shape))])\n",
    "    \n",
    "    def _cstridesbytes(self, shape):\n",
    "        \"\"\"Returns a tuple of strides for a C-ordered array (in bytes)\"\"\"\n",
    "        return tuple([self.itemsize*8*prod(shape[i+1:]) for i in range(len(shape))])\n",
    "    \n",
    "    \n",
    "    # ! Public methods =========================================================\n",
    "    def view(self):\n",
    "        \"\"\"Returns a view of the array (new tarray with same data)\"\"\"\n",
    "        return tarray(self.shape, dtype=self.dtype, buffer=self.data, offset=self.offset, strides=self.strides, order=self.order)\n",
    "    \n",
    "    def reshape(self, shape: Tuple[int, ...]):\n",
    "        \"\"\"Returns a view of the array with the given shape\"\"\"\n",
    "        if prod(shape) != self.size: raise ValueError(\"Cannot reshape to different size\")\n",
    "        # do i just recalculate the strides? with _cstrides? or do i need to do something else?\n",
    "        raise NotImplementedError(\"Reshape is not implemented yet\")\n",
    "\n",
    "    def __getitem__(self, indices: Tuple[int,...]):\n",
    "        raise NotImplementedError(\"getitem is not implemented yet\")\n",
    "\n",
    "    def __repr__(self):\n",
    "        return f\"tarray(shape={self.shape}, dtype={self.dtype}, strides={self.strides}, order={self.order})\"\n",
    "\n",
    "\n",
    "def array(obj, dtype=float, order='C'):\n",
    "    \"\"\"Returns a tarray from an object\"\"\"\n",
    "    if isinstance(obj, tarray): return obj # if it's already a tarray, return it\n",
    "    shape = tuple(recursive_checkshape(obj)) # get the shape\n",
    "    data = flatten(obj) # flatten the data\n",
    "    if not recursive_checktype(data, dtype): raise TypeError(f\"Cannot convert {type(obj)} to {dtype}\") # check the type\n",
    "    return tarray(shape, dtype=dtype, buffer=data, order=order) # return the tarray"
   ]
  },
  {
   "cell_type": "code",
   "execution_count": 99,
   "metadata": {},
   "outputs": [],
   "source": [
    "np_arr = np.random.randint(0, 10, (3, 3, 2))\n",
    "arr = array(np_arr.astype(float))"
   ]
  },
  {
   "cell_type": "code",
   "execution_count": 84,
   "metadata": {},
   "outputs": [
    {
     "name": "stdout",
     "output_type": "stream",
     "text": [
      "(48, 16, 8)\n",
      "(48, 16, 8)\n"
     ]
    }
   ],
   "source": [
    "print(tuple(8*i for i in arr.strides))\n",
    "print(np_arr.strides)"
   ]
  },
  {
   "cell_type": "code",
   "execution_count": 102,
   "metadata": {},
   "outputs": [
    {
     "data": {
      "text/plain": [
       "(3, 3, 2)"
      ]
     },
     "execution_count": 102,
     "metadata": {},
     "output_type": "execute_result"
    }
   ],
   "source": [
    "arr.shape"
   ]
  },
  {
   "cell_type": "code",
   "execution_count": 101,
   "metadata": {},
   "outputs": [
    {
     "ename": "ValueError",
     "evalue": "Shape and strides must have same length",
     "output_type": "error",
     "traceback": [
      "\u001b[0;31m---------------------------------------------------------------------------\u001b[0m",
      "\u001b[0;31mValueError\u001b[0m                                Traceback (most recent call last)",
      "Cell \u001b[0;32mIn[101], line 1\u001b[0m\n\u001b[0;32m----> 1\u001b[0m \u001b[43marr\u001b[49m\u001b[43m[\u001b[49m\u001b[43m(\u001b[49m\u001b[38;5;241;43m0\u001b[39;49m\u001b[43m,\u001b[49m\u001b[38;5;241;43m0\u001b[39;49m\u001b[43m,\u001b[49m\u001b[38;5;241;43m0\u001b[39;49m\u001b[43m)\u001b[49m\u001b[43m]\u001b[49m\n",
      "Cell \u001b[0;32mIn[98], line 53\u001b[0m, in \u001b[0;36mtarray.__getitem__\u001b[0;34m(self, indices)\u001b[0m\n\u001b[1;32m     51\u001b[0m _check(\u001b[38;5;28mself\u001b[39m, indices)\n\u001b[1;32m     52\u001b[0m linear_indices \u001b[38;5;241m=\u001b[39m [indices[i] \u001b[38;5;241m*\u001b[39m \u001b[38;5;28mself\u001b[39m\u001b[38;5;241m.\u001b[39mstrides[i] \u001b[38;5;28;01mfor\u001b[39;00m i \u001b[38;5;129;01min\u001b[39;00m \u001b[38;5;28mrange\u001b[39m(\u001b[38;5;28mlen\u001b[39m(indices))]\n\u001b[0;32m---> 53\u001b[0m \u001b[38;5;28;01mreturn\u001b[39;00m \u001b[43mtarray\u001b[49m\u001b[43m(\u001b[49m\u001b[43m(\u001b[49m\u001b[38;5;241;43m1\u001b[39;49m\u001b[43m,\u001b[49m\u001b[43m)\u001b[49m\u001b[43m,\u001b[49m\u001b[43m \u001b[49m\u001b[43mdtype\u001b[49m\u001b[38;5;241;43m=\u001b[39;49m\u001b[38;5;28;43mself\u001b[39;49m\u001b[38;5;241;43m.\u001b[39;49m\u001b[43mdtype\u001b[49m\u001b[43m,\u001b[49m\u001b[43m \u001b[49m\u001b[43mbuffer\u001b[49m\u001b[38;5;241;43m=\u001b[39;49m\u001b[38;5;28;43mself\u001b[39;49m\u001b[38;5;241;43m.\u001b[39;49m\u001b[43mdata\u001b[49m\u001b[43m,\u001b[49m\u001b[43m \u001b[49m\u001b[43mstrides\u001b[49m\u001b[38;5;241;43m=\u001b[39;49m\u001b[38;5;28;43mself\u001b[39;49m\u001b[38;5;241;43m.\u001b[39;49m\u001b[43mstrides\u001b[49m\u001b[43m,\u001b[49m\u001b[43m \u001b[49m\u001b[43moffset\u001b[49m\u001b[38;5;241;43m=\u001b[39;49m\u001b[38;5;28;43msum\u001b[39;49m\u001b[43m(\u001b[49m\u001b[43mlinear_indices\u001b[49m\u001b[43m)\u001b[49m\u001b[43m,\u001b[49m\u001b[43m \u001b[49m\u001b[43morder\u001b[49m\u001b[38;5;241;43m=\u001b[39;49m\u001b[38;5;28;43mself\u001b[39;49m\u001b[38;5;241;43m.\u001b[39;49m\u001b[43morder\u001b[49m\u001b[43m)\u001b[49m\n",
      "Cell \u001b[0;32mIn[98], line 14\u001b[0m, in \u001b[0;36mtarray.__init__\u001b[0;34m(self, shape, dtype, buffer, offset, strides, order)\u001b[0m\n\u001b[1;32m     11\u001b[0m \u001b[38;5;28mself\u001b[39m\u001b[38;5;241m.\u001b[39morder \u001b[38;5;241m=\u001b[39m order\n\u001b[1;32m     12\u001b[0m \u001b[38;5;28mself\u001b[39m\u001b[38;5;241m.\u001b[39mdata \u001b[38;5;241m=\u001b[39m buffer \u001b[38;5;28;01mif\u001b[39;00m buffer \u001b[38;5;28;01melse\u001b[39;00m [[\u001b[38;5;241m0\u001b[39m]\u001b[38;5;241m*\u001b[39mshape[\u001b[38;5;241m1\u001b[39m] \u001b[38;5;28;01mfor\u001b[39;00m _ \u001b[38;5;129;01min\u001b[39;00m \u001b[38;5;28mrange\u001b[39m(shape[\u001b[38;5;241m0\u001b[39m])] \u001b[38;5;66;03m# if no buffer, create one\u001b[39;00m\n\u001b[0;32m---> 14\u001b[0m \u001b[38;5;28;43mself\u001b[39;49m\u001b[38;5;241;43m.\u001b[39;49m\u001b[43m_validate\u001b[49m\u001b[43m(\u001b[49m\u001b[43m)\u001b[49m\n",
      "Cell \u001b[0;32mIn[98], line 19\u001b[0m, in \u001b[0;36mtarray._validate\u001b[0;34m(self)\u001b[0m\n\u001b[1;32m     17\u001b[0m \u001b[38;5;250m\u001b[39m\u001b[38;5;124;03m\"\"\"Validate the arguments passed to the constructor\"\"\"\u001b[39;00m\n\u001b[1;32m     18\u001b[0m \u001b[38;5;28;01mif\u001b[39;00m \u001b[38;5;28mself\u001b[39m\u001b[38;5;241m.\u001b[39morder \u001b[38;5;241m!=\u001b[39m \u001b[38;5;124m'\u001b[39m\u001b[38;5;124mC\u001b[39m\u001b[38;5;124m'\u001b[39m: \u001b[38;5;28;01mraise\u001b[39;00m \u001b[38;5;167;01mNotImplementedError\u001b[39;00m(\u001b[38;5;124m\"\u001b[39m\u001b[38;5;124mOnly C order is supported right now\u001b[39m\u001b[38;5;124m\"\u001b[39m) \u001b[38;5;66;03m# check ourder\u001b[39;00m\n\u001b[0;32m---> 19\u001b[0m \u001b[38;5;28;01mif\u001b[39;00m \u001b[38;5;28mlen\u001b[39m(\u001b[38;5;28mself\u001b[39m\u001b[38;5;241m.\u001b[39mshape) \u001b[38;5;241m!=\u001b[39m \u001b[38;5;28mlen\u001b[39m(\u001b[38;5;28mself\u001b[39m\u001b[38;5;241m.\u001b[39mstrides): \u001b[38;5;28;01mraise\u001b[39;00m \u001b[38;5;167;01mValueError\u001b[39;00m(\u001b[38;5;124m\"\u001b[39m\u001b[38;5;124mShape and strides must have same length\u001b[39m\u001b[38;5;124m\"\u001b[39m) \u001b[38;5;66;03m# check shape and strides\u001b[39;00m\n\u001b[1;32m     20\u001b[0m \u001b[38;5;28;01mif\u001b[39;00m \u001b[38;5;129;01mnot\u001b[39;00m \u001b[38;5;28misinstance\u001b[39m(\u001b[38;5;28mself\u001b[39m\u001b[38;5;241m.\u001b[39moffset, \u001b[38;5;28mint\u001b[39m): \u001b[38;5;28;01mraise\u001b[39;00m \u001b[38;5;167;01mTypeError\u001b[39;00m(\u001b[38;5;124m\"\u001b[39m\u001b[38;5;124mOffset must be an integer\u001b[39m\u001b[38;5;124m\"\u001b[39m) \u001b[38;5;66;03m# check offset\u001b[39;00m\n\u001b[1;32m     21\u001b[0m \u001b[38;5;28;01mif\u001b[39;00m \u001b[38;5;129;01mnot\u001b[39;00m \u001b[38;5;28misinstance\u001b[39m(\u001b[38;5;28mself\u001b[39m\u001b[38;5;241m.\u001b[39mshape, \u001b[38;5;28mtuple\u001b[39m): \u001b[38;5;28;01mraise\u001b[39;00m \u001b[38;5;167;01mTypeError\u001b[39;00m(\u001b[38;5;124m\"\u001b[39m\u001b[38;5;124mShape must be a tuple\u001b[39m\u001b[38;5;124m\"\u001b[39m) \u001b[38;5;66;03m# check shape\u001b[39;00m\n",
      "\u001b[0;31mValueError\u001b[0m: Shape and strides must have same length"
     ]
    }
   ],
   "source": [
    "arr[(0,0,0)]"
   ]
  },
  {
   "cell_type": "code",
   "execution_count": 93,
   "metadata": {},
   "outputs": [],
   "source": [
    "np_arr_reshape = np_arr.reshape((9, 2))\n",
    "arr_reshape = arr.reshape((9, 2))"
   ]
  },
  {
   "cell_type": "code",
   "execution_count": 94,
   "metadata": {},
   "outputs": [
    {
     "name": "stdout",
     "output_type": "stream",
     "text": [
      "(16, 8)\n",
      "(16, 8)\n"
     ]
    }
   ],
   "source": [
    "print(tuple(8*i for i in arr_reshape.strides))\n",
    "print(np_arr_reshape.strides)"
   ]
  },
  {
   "cell_type": "code",
   "execution_count": 95,
   "metadata": {},
   "outputs": [
    {
     "data": {
      "text/plain": [
       "True"
      ]
     },
     "execution_count": 95,
     "metadata": {},
     "output_type": "execute_result"
    }
   ],
   "source": [
    "arr.data == arr_reshape.data"
   ]
  },
  {
   "cell_type": "code",
   "execution_count": 97,
   "metadata": {},
   "outputs": [
    {
     "data": {
      "text/plain": [
       "tarray(shape=(9, 2), dtype=<class 'float'>, strides=(2, 1), order=C)"
      ]
     },
     "execution_count": 97,
     "metadata": {},
     "output_type": "execute_result"
    }
   ],
   "source": [
    "arr_reshape"
   ]
  },
  {
   "cell_type": "code",
   "execution_count": 12,
   "metadata": {},
   "outputs": [],
   "source": [
    "arr = array([1.,2.,3.,4.,5.,6.])"
   ]
  },
  {
   "cell_type": "code",
   "execution_count": 15,
   "metadata": {},
   "outputs": [
    {
     "data": {
      "text/plain": [
       "(8,)"
      ]
     },
     "execution_count": 15,
     "metadata": {},
     "output_type": "execute_result"
    }
   ],
   "source": []
  }
 ],
 "metadata": {
  "kernelspec": {
   "display_name": "venv",
   "language": "python",
   "name": "python3"
  },
  "language_info": {
   "codemirror_mode": {
    "name": "ipython",
    "version": 3
   },
   "file_extension": ".py",
   "mimetype": "text/x-python",
   "name": "python",
   "nbconvert_exporter": "python",
   "pygments_lexer": "ipython3",
   "version": "3.10.11"
  }
 },
 "nbformat": 4,
 "nbformat_minor": 2
}
