{
 "cells": [
  {
   "cell_type": "code",
   "execution_count": 3,
   "metadata": {},
   "outputs": [],
   "source": [
    "from __future__ import annotations\n",
    "import numpy as np\n",
    "from typing import Tuple, List, Optional\n",
    "import random\n",
    "import math\n",
    "import sys\n",
    "\n",
    "from lib.helpers import prod, flatten, recursive_checkshape, recursive_checktype"
   ]
  },
  {
   "cell_type": "code",
   "execution_count": 4,
   "metadata": {},
   "outputs": [],
   "source": [
    "class tarray:\n",
    "    def __init__(self, shape, dtype='fp32', buffer=None, offset=0, strides=None, order='C'):\n",
    "        self.dtype = dtype\n",
    "        self.shape = shape\n",
    "        self.size = prod(shape) # number of elements\n",
    "        self.ndim = len(shape)\n",
    "        self.itemsize = self._get_itemsize(dtype) # bytes per element\n",
    "\n",
    "        if buffer and len(buffer) != self.size: raise Exception(\"Data size does not match shape\")\n",
    "        self.data = buffer if buffer else self._allocate_buffer(self.size, self.itemsize)\n",
    "        self.base = None if not buffer else buffer\n",
    "\n",
    "        self.nbytes = self.itemsize * self.size # total bytes\n",
    "        self.offset = offset # offset in bytes\n",
    "        self.order = order # order of the array (C or F)\n",
    "        self.strides = strides if strides else self._cstrides(shape, self.itemsize) # strides in bytes\n",
    "\n",
    "        self.isContiguous = self._check_contiguous(buffer, shape, strides, self.itemsize) \n",
    "        self._validate()\n",
    "\n",
    "    # ! Methods called by the constructor ======================================\n",
    "    def _allocate_buffer(self, size, itemsize):\n",
    "        \"\"\"Allocates a buffer of the given shape and dtype\"\"\"\n",
    "        return bytearray(size * itemsize)\n",
    "    \n",
    "    def _get_itemsize(self, dtype):\n",
    "        map = {\"fp32\": 4}\n",
    "        if dtype in map: return map[dtype]\n",
    "        raise NotImplementedError(f\"Type {dtype} is not supported yet\")\n",
    "\n",
    "    def _check_contiguous(self, buffer, shape, strides, itemsize):\n",
    "        \"\"\"Checks if the array is contiguous\"\"\"\n",
    "        if not buffer or not strides or len(shape)==1: return True # if there's no buffer or strides, it's contiguous, or if it's 1D\n",
    "        # TODO will need to change this method to _cstridesbytes if we're storing bytes instead of elements\n",
    "        return self._cstrides(shape, itemsize) == strides # return if the strides are the same as the expected strides\n",
    "\n",
    "    def _validate(self):\n",
    "        \"\"\"Validate the arguments passed to the constructor\"\"\"\n",
    "        if self.order != 'C': raise NotImplementedError(\"Only C order is supported right now\") # check ourder\n",
    "        if len(self.shape) != len(self.strides): raise ValueError(\"Shape and strides must have same length\") # check shape and strides\n",
    "        if not isinstance(self.offset, int): raise TypeError(\"Offset must be an integer\") # check offset\n",
    "        if not isinstance(self.shape, tuple): raise TypeError(\"Shape must be a tuple\") # check shape\n",
    "        if not isinstance(self.strides, tuple): raise TypeError(\"Strides must be a tuple\") # check strides\n",
    "        if not isinstance(self.data, bytearray): raise TypeError(\"Data must be a bytearray\")\n",
    "        if not isinstance(self.order, str): raise TypeError(\"Order must be a string\")\n",
    "        # TODO check valid dtype goes here\n",
    "        # TODO check strides match the buffer (in bounds)\n",
    "\n",
    "    # ! Internal methods =======================================================\n",
    "    def _cstrides_readable(self, shape: Tuple[int, ...], itemsize: int):\n",
    "        \"\"\"\n",
    "        Returns a tuple of strides for a C-ordered array (in bytes)\n",
    "        $$n^X = \\sum^{N-1}_{i=1}n_i s^x_i$$ \n",
    "        \"\"\"\n",
    "        strides = [0 for _ in shape] # make an empty strides list of the same length as shape\n",
    "        for i in range(len(shape)): # for each dim in the shape (0 to N-1) for len(shape) = N\n",
    "            stride = itemsize # set the stride to the itemsize * 8 (bits)\n",
    "            for j in range(i+1, len(shape)): # accumulate the rest of the dims up to the N-1 dim\n",
    "                stride *= shape[j] # multiply the stride by the dim\n",
    "            strides[i] = stride # set the stride in the list\n",
    "        return tuple(strides) # return as a tuple\n",
    "    \n",
    "    def _cstrides(self, shape: Tuple[int, ...], itemsize: int):\n",
    "        \"\"\"\n",
    "        Returns a tuple of strides for a C-ordered array (in bytes)\n",
    "        $$n^X = \\sum^{N-1}_{i=1}n_i s^x_i$$ \n",
    "        \"\"\"\n",
    "        return tuple([itemsize*prod(shape[i+1:]) for i in range(len(shape))])\n",
    "    \n",
    "    # ! Utility methods ========================================================\n",
    "    def _validate_shape(self, shape: Tuple[int, ...]):\n",
    "        \"\"\"Validates the shape\"\"\"\n",
    "        if not isinstance(shape, tuple): raise TypeError(\"Shape must be a tuple\")\n",
    "        if not all(isinstance(dim, int) for dim in shape): raise TypeError(\"All dimensions must be integers\")\n",
    "        if not all(dim > 0 for dim in shape): raise ValueError(\"All dimensions must be greater than 0\") # TODO add 0 support\n",
    "        # TODO add -1 support\n",
    "    \n",
    "    # ! Public methods =========================================================\n",
    "    def view(self):\n",
    "        \"\"\"Returns a view of the array (new tarray with same data)\"\"\"\n",
    "        return tarray(self.shape, dtype=self.dtype, buffer=self.data, offset=self.offset, strides=self.strides, order=self.order)\n",
    "    \n",
    "    def reshape(self, shape: Tuple[int, ...]):\n",
    "        \"\"\"Returns a view of the array with the given shape\"\"\"\n",
    "        self._validate_shape(shape)\n",
    "        if prod(shape) != self.size: raise ValueError(\"Cannot reshape to different size\") \n",
    "        \n",
    "        # calculate the new strides\n",
    "        # case 1: simple reshape with no permutation (3, 4) -> (2, 6)\n",
    "        if len(shape) == len(self.shape):\n",
    "            new_strides = self.strides\n",
    "        # case 2: adding or removing a dimension\n",
    "        # this includes adding singleton dimensions or removing them (3, 4) -> (3, 1, 4) or (3, 1, 4) -> (3, 4)\n",
    "            \n",
    "        # case 3: permutation (3, 4) -> (4, 3) or (3, 4, 5) -> (4, 3, 5)\n",
    "        \n",
    "        # case 4: reshaping with -1 (12,) -> (-1, 3) which infers 4\n",
    "            \n",
    "        # case 5: permutation and singleton (3, 4) -> (4, 1, 3)\n",
    "\n",
    "\n",
    "        return tarray(shape, dtype=self.dtype, buffer=self.data, offset=self.offset, strides=new_strides, order=self.order)\n",
    "\n",
    "    def __getitem__(self, indices: Tuple[int,...]):\n",
    "        raise NotImplementedError(\"getitem is not implemented yet\")\n",
    "\n",
    "    def __repr__(self):\n",
    "        return f\"tarray(shape={self.shape}, dtype={self.dtype}, strides={self.strides}, order={self.order})\"\n",
    "\n",
    "\n",
    "def array(obj, dtype, order='C'):\n",
    "    \"\"\"Returns a tarray from an object\"\"\"\n",
    "    if isinstance(obj, tarray): return obj # 1) if it's already a tarray, return it\n",
    "    shape = tuple(recursive_checkshape(obj)) # 2) get the shape\n",
    "    data = flatten(obj) # 3) flatten the data\n",
    "    # TODO handle dtype\n",
    "    # if not recursive_checktype(data, float): raise TypeError(f\"Cannot convert {type(obj)} to {dtype}\") # 4) make sure all elements are of the same type\n",
    "    return tarray(shape, dtype=dtype, buffer=data, order=order) # 5) return the tarray"
   ]
  },
  {
   "cell_type": "code",
   "execution_count": 5,
   "metadata": {},
   "outputs": [],
   "source": [
    "np_arr = np.random.randint(0, 10, (3, 3, 2))\n",
    "arr = array(np_arr.astype(float))"
   ]
  },
  {
   "cell_type": "code",
   "execution_count": 6,
   "metadata": {},
   "outputs": [
    {
     "name": "stdout",
     "output_type": "stream",
     "text": [
      "(48, 16, 8)\n",
      "(48, 16, 8)\n"
     ]
    }
   ],
   "source": [
    "print(tuple(8*i for i in arr.strides))\n",
    "print(np_arr.strides)"
   ]
  },
  {
   "cell_type": "code",
   "execution_count": 7,
   "metadata": {},
   "outputs": [
    {
     "data": {
      "text/plain": [
       "(3, 3, 2)"
      ]
     },
     "execution_count": 7,
     "metadata": {},
     "output_type": "execute_result"
    }
   ],
   "source": [
    "arr.shape"
   ]
  },
  {
   "cell_type": "code",
   "execution_count": 9,
   "metadata": {},
   "outputs": [
    {
     "ename": "NotImplementedError",
     "evalue": "getitem is not implemented yet",
     "output_type": "error",
     "traceback": [
      "\u001b[0;31m---------------------------------------------------------------------------\u001b[0m",
      "\u001b[0;31mNotImplementedError\u001b[0m                       Traceback (most recent call last)",
      "Cell \u001b[0;32mIn[9], line 1\u001b[0m\n\u001b[0;32m----> 1\u001b[0m \u001b[43marr\u001b[49m\u001b[43m[\u001b[49m\u001b[43m(\u001b[49m\u001b[38;5;241;43m0\u001b[39;49m\u001b[43m,\u001b[49m\u001b[38;5;241;43m0\u001b[39;49m\u001b[43m,\u001b[49m\u001b[38;5;241;43m0\u001b[39;49m\u001b[43m)\u001b[49m\u001b[43m]\u001b[49m\n",
      "Cell \u001b[0;32mIn[4], line 48\u001b[0m, in \u001b[0;36mtarray.__getitem__\u001b[0;34m(self, indices)\u001b[0m\n\u001b[1;32m     47\u001b[0m \u001b[38;5;28;01mdef\u001b[39;00m \u001b[38;5;21m__getitem__\u001b[39m(\u001b[38;5;28mself\u001b[39m, indices: Tuple[\u001b[38;5;28mint\u001b[39m,\u001b[38;5;241m.\u001b[39m\u001b[38;5;241m.\u001b[39m\u001b[38;5;241m.\u001b[39m]):\n\u001b[0;32m---> 48\u001b[0m     \u001b[38;5;28;01mraise\u001b[39;00m \u001b[38;5;167;01mNotImplementedError\u001b[39;00m(\u001b[38;5;124m\"\u001b[39m\u001b[38;5;124mgetitem is not implemented yet\u001b[39m\u001b[38;5;124m\"\u001b[39m)\n",
      "\u001b[0;31mNotImplementedError\u001b[0m: getitem is not implemented yet"
     ]
    }
   ],
   "source": [
    "arr[(0,0,0)]"
   ]
  },
  {
   "cell_type": "code",
   "execution_count": null,
   "metadata": {},
   "outputs": [],
   "source": [
    "np_arr_reshape = np_arr.reshape((9, 2))\n",
    "arr_reshape = arr.reshape((9, 2))"
   ]
  },
  {
   "cell_type": "code",
   "execution_count": null,
   "metadata": {},
   "outputs": [
    {
     "name": "stdout",
     "output_type": "stream",
     "text": [
      "(16, 8)\n",
      "(16, 8)\n"
     ]
    }
   ],
   "source": [
    "print(tuple(8*i for i in arr_reshape.strides))\n",
    "print(np_arr_reshape.strides)"
   ]
  },
  {
   "cell_type": "code",
   "execution_count": null,
   "metadata": {},
   "outputs": [
    {
     "data": {
      "text/plain": [
       "True"
      ]
     },
     "execution_count": 95,
     "metadata": {},
     "output_type": "execute_result"
    }
   ],
   "source": [
    "arr.data == arr_reshape.data"
   ]
  },
  {
   "cell_type": "code",
   "execution_count": null,
   "metadata": {},
   "outputs": [
    {
     "data": {
      "text/plain": [
       "tarray(shape=(9, 2), dtype=<class 'float'>, strides=(2, 1), order=C)"
      ]
     },
     "execution_count": 97,
     "metadata": {},
     "output_type": "execute_result"
    }
   ],
   "source": [
    "arr_reshape"
   ]
  },
  {
   "cell_type": "code",
   "execution_count": null,
   "metadata": {},
   "outputs": [],
   "source": [
    "arr = array([1.,2.,3.,4.,5.,6.])"
   ]
  },
  {
   "cell_type": "code",
   "execution_count": null,
   "metadata": {},
   "outputs": [
    {
     "data": {
      "text/plain": [
       "(8,)"
      ]
     },
     "execution_count": 15,
     "metadata": {},
     "output_type": "execute_result"
    }
   ],
   "source": []
  }
 ],
 "metadata": {
  "kernelspec": {
   "display_name": "venv",
   "language": "python",
   "name": "python3"
  },
  "language_info": {
   "codemirror_mode": {
    "name": "ipython",
    "version": 3
   },
   "file_extension": ".py",
   "mimetype": "text/x-python",
   "name": "python",
   "nbconvert_exporter": "python",
   "pygments_lexer": "ipython3",
   "version": "3.10.11"
  }
 },
 "nbformat": 4,
 "nbformat_minor": 2
}
