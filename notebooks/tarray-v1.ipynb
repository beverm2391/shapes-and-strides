{
 "cells": [
  {
   "cell_type": "code",
   "execution_count": 3,
   "metadata": {},
   "outputs": [],
   "source": [
    "from __future__ import annotations\n",
    "import numpy as np\n",
    "from typing import Tuple, List, Optional\n",
    "import random\n",
    "import math\n",
    "import sys\n",
    "\n",
    "from lib.helpers import prod, flatten, recursive_checkshape, recursive_checktype"
   ]
  },
  {
   "cell_type": "code",
   "execution_count": 1,
   "metadata": {},
   "outputs": [
    {
     "ename": "NameError",
     "evalue": "name 'Tuple' is not defined",
     "output_type": "error",
     "traceback": [
      "\u001b[0;31m---------------------------------------------------------------------------\u001b[0m",
      "\u001b[0;31mNameError\u001b[0m                                 Traceback (most recent call last)",
      "Cell \u001b[0;32mIn[1], line 1\u001b[0m\n\u001b[0;32m----> 1\u001b[0m \u001b[38;5;28;01mclass\u001b[39;00m \u001b[38;5;21;01mtarray\u001b[39;00m:\n\u001b[1;32m      2\u001b[0m     \u001b[38;5;28;01mdef\u001b[39;00m \u001b[38;5;21m__init__\u001b[39m(\u001b[38;5;28mself\u001b[39m, shape, dtype\u001b[38;5;241m=\u001b[39m\u001b[38;5;28mfloat\u001b[39m, buffer\u001b[38;5;241m=\u001b[39m\u001b[38;5;28;01mNone\u001b[39;00m, offset\u001b[38;5;241m=\u001b[39m\u001b[38;5;241m0\u001b[39m, strides\u001b[38;5;241m=\u001b[39m\u001b[38;5;28;01mNone\u001b[39;00m, order\u001b[38;5;241m=\u001b[39m\u001b[38;5;124m'\u001b[39m\u001b[38;5;124mC\u001b[39m\u001b[38;5;124m'\u001b[39m):\n\u001b[1;32m      3\u001b[0m         \u001b[38;5;66;03m# boolean flags\u001b[39;00m\n\u001b[1;32m      4\u001b[0m         \u001b[38;5;28mself\u001b[39m\u001b[38;5;241m.\u001b[39misContiguous \u001b[38;5;241m=\u001b[39m \u001b[38;5;28;01mTrue\u001b[39;00m \u001b[38;5;28;01mif\u001b[39;00m strides \u001b[38;5;241m==\u001b[39m \u001b[38;5;28;01mNone\u001b[39;00m \u001b[38;5;28;01melse\u001b[39;00m \u001b[38;5;28;01mFalse\u001b[39;00m\n",
      "Cell \u001b[0;32mIn[1], line 39\u001b[0m, in \u001b[0;36mtarray\u001b[0;34m()\u001b[0m\n\u001b[1;32m     34\u001b[0m     \u001b[38;5;28;01mif\u001b[39;00m \u001b[38;5;129;01mnot\u001b[39;00m \u001b[38;5;28misinstance\u001b[39m(\u001b[38;5;28mself\u001b[39m\u001b[38;5;241m.\u001b[39mstrides, \u001b[38;5;28mtuple\u001b[39m): \u001b[38;5;28;01mraise\u001b[39;00m \u001b[38;5;167;01mTypeError\u001b[39;00m(\u001b[38;5;124m\"\u001b[39m\u001b[38;5;124mStrides must be a tuple\u001b[39m\u001b[38;5;124m\"\u001b[39m) \u001b[38;5;66;03m# check strides\u001b[39;00m\n\u001b[1;32m     35\u001b[0m     \u001b[38;5;66;03m# TODO check valid dtype goes here\u001b[39;00m\n\u001b[1;32m     36\u001b[0m     \u001b[38;5;66;03m# TODO check strides match the buffer (in bounds)\u001b[39;00m\n\u001b[1;32m     37\u001b[0m \n\u001b[1;32m     38\u001b[0m \u001b[38;5;66;03m# ! Internal methods =======================================================\u001b[39;00m\n\u001b[0;32m---> 39\u001b[0m \u001b[38;5;28;01mdef\u001b[39;00m \u001b[38;5;21m_cstrides_readable\u001b[39m(\u001b[38;5;28mself\u001b[39m, shape: \u001b[43mTuple\u001b[49m[\u001b[38;5;28mint\u001b[39m, \u001b[38;5;241m.\u001b[39m\u001b[38;5;241m.\u001b[39m\u001b[38;5;241m.\u001b[39m]):\n\u001b[1;32m     40\u001b[0m \u001b[38;5;250m    \u001b[39m\u001b[38;5;124;03m\"\"\"\u001b[39;00m\n\u001b[1;32m     41\u001b[0m \u001b[38;5;124;03m    Returns a tuple of strides for a C-ordered array (in elements)\u001b[39;00m\n\u001b[1;32m     42\u001b[0m \u001b[38;5;124;03m    $$n^X = \\sum^{N-1}_{i=1}n_i s^x_i$$ \u001b[39;00m\n\u001b[1;32m     43\u001b[0m \u001b[38;5;124;03m    \"\"\"\u001b[39;00m\n\u001b[1;32m     44\u001b[0m     strides \u001b[38;5;241m=\u001b[39m [\u001b[38;5;241m0\u001b[39m \u001b[38;5;28;01mfor\u001b[39;00m _ \u001b[38;5;129;01min\u001b[39;00m shape] \u001b[38;5;66;03m# make an empty strides list of the same length as shape\u001b[39;00m\n",
      "\u001b[0;31mNameError\u001b[0m: name 'Tuple' is not defined"
     ]
    }
   ],
   "source": [
    "class tarray:\n",
    "    def __init__(self, shape, dtype=float, buffer=None, offset=0, strides=None, order='C'):\n",
    "        # boolean flags\n",
    "        self.isContiguous = self._check_contiguous(buffer, shape, strides)\n",
    "        self.isView = True if buffer else False\n",
    "        self.order = order\n",
    "\n",
    "        # fixed attributes\n",
    "        self.dtype = dtype\n",
    "        self.itemsize : int = 1 # number of bytes in an item \n",
    "        #? itemsize is one right now because we're storing elements not bytes. fp32 is 4 bytes, fp64 is 8 bytes, etc.\n",
    "        self.nbytes = self.itemsize * self.size # size in bytes (number of bytes in an item * number of items)\n",
    "        self.offset = offset # offset in bytes\n",
    "\n",
    "        # mutable attributes\n",
    "        self.shape = shape # shape (this has to be set before calling _cstrides)\n",
    "        self.size = prod(shape) # size in elements\n",
    "        self.strides = strides if strides else self._cstrides(shape) # strides in bytes\n",
    "        \n",
    "        # data\n",
    "        if len(buffer) != self.size: raise Exception(\"Data size does not match shape\")\n",
    "        self.data = buffer if buffer else [[0] * self.size] # if no buffer, create one, else use the buffer\n",
    "        \n",
    "        # validate input arguments\n",
    "        self._validate()\n",
    "\n",
    "    # ! Methods called by the constructor ======================================\n",
    "    def _check_contiguous(self, buffer, shape, strides):\n",
    "        \"\"\"Checks if the array is contiguous\"\"\"\n",
    "        if not buffer or not strides or len(shape)==1: return True # if there's no buffer or strides, it's contiguous, or if it's 1D\n",
    "        # TODO will need to change this method to _cstridesbytes if we're storing bytes instead of elements\n",
    "        return (expected_strides := self._cstrides(shape)) == strides # return if the strides are the same as the expected strides\n",
    "\n",
    "    def _validate(self):\n",
    "        \"\"\"Validate the arguments passed to the constructor\"\"\"\n",
    "        if self.order != 'C': raise NotImplementedError(\"Only C order is supported right now\") # check ourder\n",
    "        if len(self.shape) != len(self.strides): raise ValueError(\"Shape and strides must have same length\") # check shape and strides\n",
    "        if not isinstance(self.offset, int): raise TypeError(\"Offset must be an integer\") # check offset\n",
    "        if not isinstance(self.shape, tuple): raise TypeError(\"Shape must be a tuple\") # check shape\n",
    "        if not isinstance(self.strides, tuple): raise TypeError(\"Strides must be a tuple\") # check strides\n",
    "        # TODO check valid dtype goes here\n",
    "        # TODO check strides match the buffer (in bounds)\n",
    "\n",
    "    # ! Internal methods =======================================================\n",
    "    def _cstrides_readable(self, shape: Tuple[int, ...]):\n",
    "        \"\"\"\n",
    "        Returns a tuple of strides for a C-ordered array (in elements)\n",
    "        $$n^X = \\sum^{N-1}_{i=1}n_i s^x_i$$ \n",
    "        \"\"\"\n",
    "        strides = [0 for _ in shape] # make an empty strides list of the same length as shape\n",
    "        for i in range(len(shape)): # for each dim in the shape (0 to N-1) for len(shape) = N\n",
    "            stride = 8 #? if this = 1, strides is the number of elements to skip, if this = 8, strides is the number of bytes to skip\n",
    "            for j in range(i+1, len(shape)): # accumulate the rest of the dims up to the N-1 dim\n",
    "                stride *= shape[j] # multiply the stride by the dim\n",
    "            strides[i] = stride # set the stride in the list\n",
    "        return tuple(strides) # return as a tuple\n",
    "    \n",
    "    def _cstrides(self, shape):\n",
    "        \"\"\"Returns a tuple of strides for a C-ordered array (in elements)\"\"\"\n",
    "        return tuple([self.itemsize * prod(shape[i+1:]) for i in range(len(shape))])\n",
    "    \n",
    "    def _cstridesbytes(self, shape):\n",
    "        \"\"\"Returns a tuple of strides for a C-ordered array (in bytes)\"\"\"\n",
    "        return tuple([self.itemsize * 8 * prod(shape[i+1:]) for i in range(len(shape))])\n",
    "    \n",
    "    # ! Public methods =========================================================\n",
    "    def view(self):\n",
    "        \"\"\"Returns a view of the array (new tarray with same data)\"\"\"\n",
    "        return tarray(self.shape, dtype=self.dtype, buffer=self.data, offset=self.offset, strides=self.strides, order=self.order)\n",
    "    \n",
    "    def reshape(self, shape: Tuple[int, ...]):\n",
    "        \"\"\"Returns a view of the array with the given shape\"\"\"\n",
    "        if prod(shape) != self.size: raise ValueError(\"Cannot reshape to different size\")\n",
    "        return tarray(shape, dtype=self.dtype, buffer=self.data, offset=self.offset, strides=self.strides, order=self.order)\n",
    "\n",
    "    def __getitem__(self, indices: Tuple[int,...]):\n",
    "        raise NotImplementedError(\"getitem is not implemented yet\")\n",
    "\n",
    "    def __repr__(self):\n",
    "        return f\"tarray(shape={self.shape}, dtype={self.dtype}, strides={self.strides}, order={self.order})\"\n",
    "\n",
    "\n",
    "def array(obj, dtype=float, order='C'):\n",
    "    \"\"\"Returns a tarray from an object\"\"\"\n",
    "    if isinstance(obj, tarray): return obj # 1) if it's already a tarray, return it\n",
    "    shape = tuple(recursive_checkshape(obj)) # 2) get the shape\n",
    "    data = flatten(obj) # 3) flatten the data\n",
    "    if not recursive_checktype(data, dtype): raise TypeError(f\"Cannot convert {type(obj)} to {dtype}\") # 4) make sure all elements are of the same type\n",
    "    return tarray(shape, dtype=dtype, buffer=data, order=order) # 5) return the tarray"
   ]
  },
  {
   "cell_type": "code",
   "execution_count": 5,
   "metadata": {},
   "outputs": [],
   "source": [
    "np_arr = np.random.randint(0, 10, (3, 3, 2))\n",
    "arr = array(np_arr.astype(float))"
   ]
  },
  {
   "cell_type": "code",
   "execution_count": 6,
   "metadata": {},
   "outputs": [
    {
     "name": "stdout",
     "output_type": "stream",
     "text": [
      "(48, 16, 8)\n",
      "(48, 16, 8)\n"
     ]
    }
   ],
   "source": [
    "print(tuple(8*i for i in arr.strides))\n",
    "print(np_arr.strides)"
   ]
  },
  {
   "cell_type": "code",
   "execution_count": 7,
   "metadata": {},
   "outputs": [
    {
     "data": {
      "text/plain": [
       "(3, 3, 2)"
      ]
     },
     "execution_count": 7,
     "metadata": {},
     "output_type": "execute_result"
    }
   ],
   "source": [
    "arr.shape"
   ]
  },
  {
   "cell_type": "code",
   "execution_count": 9,
   "metadata": {},
   "outputs": [
    {
     "ename": "NotImplementedError",
     "evalue": "getitem is not implemented yet",
     "output_type": "error",
     "traceback": [
      "\u001b[0;31m---------------------------------------------------------------------------\u001b[0m",
      "\u001b[0;31mNotImplementedError\u001b[0m                       Traceback (most recent call last)",
      "Cell \u001b[0;32mIn[9], line 1\u001b[0m\n\u001b[0;32m----> 1\u001b[0m \u001b[43marr\u001b[49m\u001b[43m[\u001b[49m\u001b[43m(\u001b[49m\u001b[38;5;241;43m0\u001b[39;49m\u001b[43m,\u001b[49m\u001b[38;5;241;43m0\u001b[39;49m\u001b[43m,\u001b[49m\u001b[38;5;241;43m0\u001b[39;49m\u001b[43m)\u001b[49m\u001b[43m]\u001b[49m\n",
      "Cell \u001b[0;32mIn[4], line 48\u001b[0m, in \u001b[0;36mtarray.__getitem__\u001b[0;34m(self, indices)\u001b[0m\n\u001b[1;32m     47\u001b[0m \u001b[38;5;28;01mdef\u001b[39;00m \u001b[38;5;21m__getitem__\u001b[39m(\u001b[38;5;28mself\u001b[39m, indices: Tuple[\u001b[38;5;28mint\u001b[39m,\u001b[38;5;241m.\u001b[39m\u001b[38;5;241m.\u001b[39m\u001b[38;5;241m.\u001b[39m]):\n\u001b[0;32m---> 48\u001b[0m     \u001b[38;5;28;01mraise\u001b[39;00m \u001b[38;5;167;01mNotImplementedError\u001b[39;00m(\u001b[38;5;124m\"\u001b[39m\u001b[38;5;124mgetitem is not implemented yet\u001b[39m\u001b[38;5;124m\"\u001b[39m)\n",
      "\u001b[0;31mNotImplementedError\u001b[0m: getitem is not implemented yet"
     ]
    }
   ],
   "source": [
    "arr[(0,0,0)]"
   ]
  },
  {
   "cell_type": "code",
   "execution_count": null,
   "metadata": {},
   "outputs": [],
   "source": [
    "np_arr_reshape = np_arr.reshape((9, 2))\n",
    "arr_reshape = arr.reshape((9, 2))"
   ]
  },
  {
   "cell_type": "code",
   "execution_count": null,
   "metadata": {},
   "outputs": [
    {
     "name": "stdout",
     "output_type": "stream",
     "text": [
      "(16, 8)\n",
      "(16, 8)\n"
     ]
    }
   ],
   "source": [
    "print(tuple(8*i for i in arr_reshape.strides))\n",
    "print(np_arr_reshape.strides)"
   ]
  },
  {
   "cell_type": "code",
   "execution_count": null,
   "metadata": {},
   "outputs": [
    {
     "data": {
      "text/plain": [
       "True"
      ]
     },
     "execution_count": 95,
     "metadata": {},
     "output_type": "execute_result"
    }
   ],
   "source": [
    "arr.data == arr_reshape.data"
   ]
  },
  {
   "cell_type": "code",
   "execution_count": null,
   "metadata": {},
   "outputs": [
    {
     "data": {
      "text/plain": [
       "tarray(shape=(9, 2), dtype=<class 'float'>, strides=(2, 1), order=C)"
      ]
     },
     "execution_count": 97,
     "metadata": {},
     "output_type": "execute_result"
    }
   ],
   "source": [
    "arr_reshape"
   ]
  },
  {
   "cell_type": "code",
   "execution_count": null,
   "metadata": {},
   "outputs": [],
   "source": [
    "arr = array([1.,2.,3.,4.,5.,6.])"
   ]
  },
  {
   "cell_type": "code",
   "execution_count": null,
   "metadata": {},
   "outputs": [
    {
     "data": {
      "text/plain": [
       "(8,)"
      ]
     },
     "execution_count": 15,
     "metadata": {},
     "output_type": "execute_result"
    }
   ],
   "source": []
  }
 ],
 "metadata": {
  "kernelspec": {
   "display_name": "venv",
   "language": "python",
   "name": "python3"
  },
  "language_info": {
   "codemirror_mode": {
    "name": "ipython",
    "version": 3
   },
   "file_extension": ".py",
   "mimetype": "text/x-python",
   "name": "python",
   "nbconvert_exporter": "python",
   "pygments_lexer": "ipython3",
   "version": "3.10.11"
  }
 },
 "nbformat": 4,
 "nbformat_minor": 2
}
