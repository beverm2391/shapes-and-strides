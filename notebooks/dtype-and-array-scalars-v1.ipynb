{
 "cells": [
  {
   "cell_type": "code",
   "execution_count": 1,
   "metadata": {},
   "outputs": [],
   "source": [
    "class Dtype:\n",
    "    def __init__(self, type_, size):\n",
    "        self.type_ = type_ # e.g. float32, int32, etc.\n",
    "        self.size = size # size in bytes\n",
    "\n",
    "    def __str__(self): return f\"Dtype({self.type_})\""
   ]
  },
  {
   "cell_type": "code",
   "execution_count": 2,
   "metadata": {},
   "outputs": [],
   "source": [
    "class ArrayScalar:\n",
    "    def __init__(self, value, dtype):\n",
    "        self.value = value\n",
    "        self.dtype = dtype\n",
    "\n",
    "    def __repr__(self): return f\"ArrayScalar({self.value}, {self.dtype})\"\n",
    "\n",
    "class Float32Scalar(ArrayScalar):\n",
    "    def __init__(self, value):\n",
    "        super().__init__(value, Dtype('float32', 4))\n",
    "\n",
    "    def __repr__(self): return f\"Float32Scalar({self.value})\"\n",
    "\n",
    "class Int32Scalar(ArrayScalar):\n",
    "    def __init__(self, value):\n",
    "        super().__init__(value, Dtype('int32', 4))\n",
    "\n",
    "    def __repr__(self): return f\"Int32Scalar({self.value})\""
   ]
  }
 ],
 "metadata": {
  "kernelspec": {
   "display_name": "venv",
   "language": "python",
   "name": "python3"
  },
  "language_info": {
   "codemirror_mode": {
    "name": "ipython",
    "version": 3
   },
   "file_extension": ".py",
   "mimetype": "text/x-python",
   "name": "python",
   "nbconvert_exporter": "python",
   "pygments_lexer": "ipython3",
   "version": "3.10.11"
  }
 },
 "nbformat": 4,
 "nbformat_minor": 2
}
