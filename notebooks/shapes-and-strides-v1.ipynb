{
 "cells": [
  {
   "cell_type": "code",
   "execution_count": 8,
   "metadata": {},
   "outputs": [],
   "source": [
    "import numpy as np\n",
    "from typing import Tuple, List"
   ]
  },
  {
   "cell_type": "markdown",
   "metadata": {},
   "source": [
    "*With a single-segment of memory representing the array, the one-dimensional index into computer memory can always be computed from the N-dimensional index*\n",
    "\n",
    "Let $n_i$ be the value of the ith index into an array whose shape is represented by the $N$ integers $d_i (i = 0\\ .\\ .\\ . N − 1)$. Then, the one-dimensional index into a C-style contiguous array is\n",
    "$$n^C = \\sum_{i=0}^{N-1}n_i\\prod^{N-1}_{j=i+1}d_j$$\n",
    "while the one-dimensional index into a Fortran-style array is\n",
    "$$n^F = \\sum_{i=0}^{N-1}n_i\\prod_{j=0}^{N-1}d_j$$\n",
    "In these formulas we are assuming that\n",
    "$$\\prod_{j=k}^{m}d_j=d_k d_{k+1}...d_{m-1} d_m$$\n",
    "\n",
    "Let’s see how they expand out for determining the one-dimensional index corresponding to the element (1, 3, 2) of a 4 × 5 × 6 array. If the array is stored as Fortran contiguous, then\n",
    "$$n_F = n_0 \\cdot (1) + n_1 \\cdot (4) + n_2 \\cdot (4 \\cdot 5)$$\n",
    "$$ = 1 + 3 \\cdot 4 + 3 \\cdot 20 = 53$$\n",
    "On the other hand, if the array is stored as $C$ contiguous, then\n",
    "$$n^{C}=n_0 \\cdot (5 \\cdot 6) + n_1 \\cdot (6) + n_2 \\cdot (1)$$\n",
    "$$ = 1 \\cdot 30 + 3 \\cdot 6 + 2 \\cdot 1 = 50$$"
   ]
  },
  {
   "cell_type": "markdown",
   "metadata": {},
   "source": [
    "array is (4 x 5 x 6)\n",
    "indices = (1, 3, 2)\n",
    "C-style linear index = 1 * (5*6) + 3 * (6) + 2 * (1) = 50"
   ]
  },
  {
   "cell_type": "code",
   "execution_count": 9,
   "metadata": {},
   "outputs": [
    {
     "ename": "TypeError",
     "evalue": "unsupported operand type(s) for +=: 'int' and 'ellipsis'",
     "output_type": "error",
     "traceback": [
      "\u001b[0;31m---------------------------------------------------------------------------\u001b[0m",
      "\u001b[0;31mTypeError\u001b[0m                                 Traceback (most recent call last)",
      "Cell \u001b[0;32mIn[9], line 11\u001b[0m\n\u001b[1;32m      9\u001b[0m         sum_ \u001b[38;5;241m+\u001b[39m\u001b[38;5;241m=\u001b[39m indices[i] \u001b[38;5;241m*\u001b[39m accumulate(shape[i\u001b[38;5;241m+\u001b[39m\u001b[38;5;241m1\u001b[39m:]) \u001b[38;5;66;03m# all remaining shapes\u001b[39;00m\n\u001b[1;32m     10\u001b[0m     \u001b[38;5;28;01melse\u001b[39;00m: \u001b[38;5;66;03m# last element\u001b[39;00m\n\u001b[0;32m---> 11\u001b[0m         sum_ \u001b[38;5;241m+\u001b[39m\u001b[38;5;241m=\u001b[39m indices[i]\n\u001b[1;32m     13\u001b[0m linear_index_cstyle \u001b[38;5;241m=\u001b[39m \u001b[38;5;28msum\u001b[39m([(indices[i] \u001b[38;5;241m*\u001b[39m accumulate(shape[i\u001b[38;5;241m+\u001b[39m\u001b[38;5;241m1\u001b[39m:]) \u001b[38;5;28;01mif\u001b[39;00m i \u001b[38;5;241m<\u001b[39m \u001b[38;5;28mlen\u001b[39m(indices) \u001b[38;5;241m-\u001b[39m \u001b[38;5;241m1\u001b[39m \u001b[38;5;28;01melse\u001b[39;00m indices[i]) \u001b[38;5;28;01mfor\u001b[39;00m i \u001b[38;5;129;01min\u001b[39;00m \u001b[38;5;28mrange\u001b[39m(\u001b[38;5;28mlen\u001b[39m(indices))])\n\u001b[1;32m     15\u001b[0m \u001b[38;5;28;01mclass\u001b[39;00m \u001b[38;5;21;01mNDArray\u001b[39;00m:\n",
      "\u001b[0;31mTypeError\u001b[0m: unsupported operand type(s) for +=: 'int' and 'ellipsis'"
     ]
    }
   ],
   "source": [
    "indices = [...]\n",
    "shape = [...]\n",
    "\n",
    "def accumulate(arr): return (el := arr[0]) * accumulate(arr[1:]) if arr else 1\n",
    "\n",
    "sum_ = 0\n",
    "for i in range(len(indices)):\n",
    "    if i<len(indices)-1: # if were not on the last element\n",
    "        sum_ += indices[i] * accumulate(shape[i+1:]) # all remaining shapes\n",
    "    else: # last element\n",
    "        sum_ += indices[i]\n",
    "\n",
    "linear_index_cstyle = sum([(indices[i] * accumulate(shape[i+1:]) if i < len(indices) - 1 else indices[i]) for i in range(len(indices))])\n",
    "\n",
    "class NDArray:\n",
    "    def __init__(self, shape: Tuple[int, ...], data: List[float]):\n",
    "        self.size = accumulate(shape)\n",
    "        if len(data) != self.size: raise Exception(\"Data size does not match shape\")\n",
    "        self.shape = shape\n",
    "        self.data = data\n",
    "\n",
    "    def _ndim_to_cstyle(self, indices: Tuple[int, ...]):\n",
    "        return sum([(indices[i] * accumulate(shape[i+1:]) if i < len(indices) - 1 else indices[i]) for i in range(len(indices))])\n",
    "\n",
    "    def __getitem__(self, indices: Tuple[int, ...]):\n",
    "        if len(indices) != len(self.shape): raise Exception(\"Indices do not match shape\")\n",
    "        linear_index_cstyle = self._ndim_to_cstyle(indices)\n",
    "        assert linear_index_cstyle < self.size, \"Index out of bounds - something went wrong\"\n",
    "        return self.data[linear_index_cstyle]\n",
    "    \n",
    "    def __setitem__(self, indices: Tuple[int, ...], value: float):\n",
    "        if len(indices) != len(self.shape): raise Exception(\"Indices do not match shape\")\n",
    "        linear_index_cstyle = self._ndim_to_cstyle(indices)\n",
    "        assert linear_index_cstyle < self.size, \"Index out of bounds - something went wrong\"\n",
    "        self.data[linear_index_cstyle] = value\n",
    "\n",
    "    def __repr__(self):\n",
    "        return f\"NDArray(shape={self.shape}, data={self.data})\"\n",
    "\n",
    "# ! TESTS AGAINT NUMPY ==============================================   \n",
    "    \n",
    "\n",
    "def test():\n",
    "    pass"
   ]
  }
 ],
 "metadata": {
  "kernelspec": {
   "display_name": "venv",
   "language": "python",
   "name": "python3"
  },
  "language_info": {
   "codemirror_mode": {
    "name": "ipython",
    "version": 3
   },
   "file_extension": ".py",
   "mimetype": "text/x-python",
   "name": "python",
   "nbconvert_exporter": "python",
   "pygments_lexer": "ipython3",
   "version": "3.10.11"
  }
 },
 "nbformat": 4,
 "nbformat_minor": 2
}
